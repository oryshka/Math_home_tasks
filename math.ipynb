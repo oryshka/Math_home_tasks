{
 "cells": [
  {
   "cell_type": "code",
   "execution_count": 13,
   "metadata": {},
   "outputs": [],
   "source": [
    "import random"
   ]
  },
  {
   "cell_type": "code",
   "execution_count": 14,
   "metadata": {},
   "outputs": [],
   "source": [
    "min_number = int(input(\"Input min\"))\n",
    "max_number = int(input(\"Input max\"))\n",
    "num_counts = int(input(\"Input count of tasks\"))\n",
    "max_sum = int(input(\"Imput max of summury\"))"
   ]
  },
  {
   "cell_type": "code",
   "execution_count": 15,
   "metadata": {},
   "outputs": [
    {
     "name": "stdout",
     "output_type": "stream",
     "text": [
      "17 - 1\n",
      "6 - 2\n",
      "13 + 17\n",
      "12 + 3\n",
      "8 + 11\n"
     ]
    }
   ],
   "source": [
    "def home_task(min_number, max_number, num_counts, max_sum):\n",
    "    for i in range(num_counts):\n",
    "        while True:\n",
    "            num1 = random.randint(min_number, max_number)\n",
    "            num2 = random.randint(min_number, max_number)\n",
    "            operation = random.choice('+-')\n",
    "            if operation == '+':\n",
    "                result = num1 + num2\n",
    "            elif operation == '-':\n",
    "                result = num1 - num2\n",
    "            if result >= 0 and result <= max_sum:\n",
    "                break\n",
    "        print (f\"{num1} {operation} {num2}\")\n",
    "\n",
    "home_task(min_number, max_number, num_counts, max_sum)"
   ]
  }
 ],
 "metadata": {
  "kernelspec": {
   "display_name": "base",
   "language": "python",
   "name": "python3"
  },
  "language_info": {
   "codemirror_mode": {
    "name": "ipython",
    "version": 3
   },
   "file_extension": ".py",
   "mimetype": "text/x-python",
   "name": "python",
   "nbconvert_exporter": "python",
   "pygments_lexer": "ipython3",
   "version": "3.11.5"
  }
 },
 "nbformat": 4,
 "nbformat_minor": 2
}
